{
 "cells": [
  {
   "cell_type": "code",
   "execution_count": null,
   "metadata": {},
   "outputs": [],
   "source": [
    "class parent1 :\n",
    "    name = \"\"       #class_ittrbute\n",
    "    def __init__(self,name):\n",
    "        self.name=name      #instance_varibe\n",
    "\n",
    "class parent2 :\n",
    "    def __init__ (self, mm) :\n",
    "        self.mm = mm"
   ]
  },
  {
   "cell_type": "markdown",
   "metadata": {},
   "source": [
    "## Multi level inheritance "
   ]
  },
  {
   "cell_type": "code",
   "execution_count": null,
   "metadata": {},
   "outputs": [],
   "source": [
    "class Child1 (parent1):\n",
    "    def __init__(self,name,age):\n",
    "        self.age=age\n",
    "        parent1.__init__(self,name)"
   ]
  },
  {
   "cell_type": "code",
   "execution_count": null,
   "metadata": {},
   "outputs": [],
   "source": [
    "class Child2 (Child1):\n",
    "    def __init__(self,name,age,sallay):\n",
    "        self.sallay=sallay\n",
    "        Child1.__init__(self,name,age)"
   ]
  },
  {
   "cell_type": "markdown",
   "metadata": {},
   "source": [
    "## multiple inheritance"
   ]
  },
  {
   "cell_type": "code",
   "execution_count": null,
   "metadata": {},
   "outputs": [],
   "source": [
    "class Child3 (parent1 , parent2):\n",
    "    def __init__(self,name,age,id, mm):\n",
    "        self.id=id\n",
    "        parent1.__init__(self,name,age)\n",
    "        parent2.__init__(self,mm)\n",
    "    def PrintDetails (self):\n",
    "        print(f\" my id is {self.id}\")"
   ]
  },
  {
   "cell_type": "markdown",
   "metadata": {},
   "source": [
    "## overriding ==> function in child disabled that in parent class"
   ]
  },
  {
   "cell_type": "code",
   "execution_count": null,
   "metadata": {},
   "outputs": [],
   "source": [
    "class person :\n",
    "    name = \"\"\n",
    "    age = 0\n",
    "    def __init__(self,name,age):\n",
    "        self.name=name\n",
    "        self.age = age\n",
    "    def PrintDetails (self):\n",
    "        print(f\"my name is {self.name} \\nmy age is {self.age}\")\n",
    "\n",
    "class employee (person):\n",
    "    def __init__(self,name,age , id , sallary):\n",
    "        self.id=id\n",
    "        self.sallary = sallary\n",
    "        person.__init__(self,name , age)\n",
    "    def PrintDetails (self):\n",
    "        print(f\"my sallary is {self.sallary} , my id is {self.id} \")"
   ]
  }
 ],
 "metadata": {
  "language_info": {
   "name": "python"
  }
 },
 "nbformat": 4,
 "nbformat_minor": 2
}
