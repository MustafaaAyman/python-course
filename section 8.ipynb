{
 "cells": [
  {
   "cell_type": "code",
   "execution_count": null,
   "metadata": {},
   "outputs": [],
   "source": [
    "class ahmed :\n",
    "    V1 = \"class attribute \"\n",
    "    def __init__(self , V2 ):\n",
    "        self.V2 = V2 # instance attribute\n",
    "    def display (self):\n",
    "        print ( ahmed.V1) # can access the class attribute\n",
    "    def edit (self , V2 ):\n",
    "        self.V2 = V2\n",
    "    def display2 (self):\n",
    "        print (self.V2)\n",
    "\n",
    "a=ahmed(\"instance attribute \") # this create instance attribute \n",
    "a.display() # access class attribute\n",
    "a.V1 = 9 # edit class attribute to 9\n",
    "\n",
    "a.display2() # access instance attribute\n",
    "a.edit(5) # edit instance attribute to 5 \n",
    "a.display2() # access instance attribute\n"
   ]
  },
  {
   "cell_type": "markdown",
   "metadata": {},
   "source": [
    "## overloading ==> functions with the same name but paramater or data type is diffrance\n",
    "* can do overload by * in one funcution \n",
    "* can do overload by \" keyword \" in one funcution \n",
    "* can do overload by package multipledispatch"
   ]
  },
  {
   "cell_type": "code",
   "execution_count": null,
   "metadata": {},
   "outputs": [],
   "source": [
    "def add (Datatype , *args):\n",
    "    if Datatype == int:\n",
    "        sum = 0\n",
    "    else :\n",
    "        sum = \"\"\n",
    "\n",
    "    for i in args :\n",
    "        sum+=i\n",
    "    print (sum)\n",
    "\n",
    "add(int,1,5,7,9)\n",
    "add(str,\"ahmed \" , \"mohamed\")\n"
   ]
  },
  {
   "cell_type": "code",
   "execution_count": null,
   "metadata": {},
   "outputs": [],
   "source": [
    "def product (a = \"none\" , b = \"none\") :\n",
    "    if b == \"none\":\n",
    "        return a\n",
    "    else :\n",
    "        return a*b\n",
    "c = product (1)\n",
    "print(c)"
   ]
  },
  {
   "cell_type": "code",
   "execution_count": null,
   "metadata": {},
   "outputs": [],
   "source": [
    "from multipledispatch import dispatch\n",
    "\n",
    "@dispatch (int , int )\n",
    "def ahmed (a1 , a2 ):\n",
    "    print (a1*a2)\n",
    "\n",
    "@dispatch (int , int , int)\n",
    "def ahmed (a1 , a2 , a3  ):\n",
    "    print (a1*a2*a3)\n",
    "\n",
    "ahmed (1,2)\n",
    "ahmed(4,2,3)"
   ]
  }
 ],
 "metadata": {
  "language_info": {
   "name": "python"
  }
 },
 "nbformat": 4,
 "nbformat_minor": 2
}
