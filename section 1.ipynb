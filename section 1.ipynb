{
 "cells": [
  {
   "cell_type": "markdown",
   "metadata": {},
   "source": [
    "## continue ==> ignore condition "
   ]
  },
  {
   "cell_type": "code",
   "execution_count": null,
   "metadata": {},
   "outputs": [],
   "source": [
    "for i in range (10):\n",
    "    if i == 5:\n",
    "        continue\n",
    "    else :\n",
    "       print (i)"
   ]
  },
  {
   "cell_type": "code",
   "execution_count": null,
   "metadata": {},
   "outputs": [],
   "source": [
    "for i in range (10):\n",
    "    # if i== 2 or i== 4 or i== 6 or i== 8:\n",
    "    #     continue\n",
    "    # else :\n",
    "    #    print (i)\n",
    "    \n",
    "    if i in range (0,10,2):\n",
    "        continue\n",
    "    else: \n",
    "        print (i)\n"
   ]
  },
  {
   "cell_type": "markdown",
   "metadata": {},
   "source": [
    "## pass ==> return value instead of condition"
   ]
  },
  {
   "cell_type": "code",
   "execution_count": null,
   "metadata": {},
   "outputs": [],
   "source": [
    "for i in range (10):\n",
    "    if i == 5:\n",
    "        pass \n",
    "        print(\"ahmed\")\n",
    "    else :\n",
    "       print (i )"
   ]
  },
  {
   "cell_type": "markdown",
   "metadata": {},
   "source": [
    "## break ==> stop loop when condition "
   ]
  },
  {
   "cell_type": "code",
   "execution_count": null,
   "metadata": {},
   "outputs": [],
   "source": [
    "for i in range (10):\n",
    "    if i == 5 :\n",
    "        break\n",
    "    else :\n",
    "        print(i)"
   ]
  },
  {
   "cell_type": "markdown",
   "metadata": {},
   "source": [
    "## while Loop\n"
   ]
  },
  {
   "cell_type": "code",
   "execution_count": null,
   "metadata": {},
   "outputs": [],
   "source": [
    "i=1\n",
    "while (i<10):\n",
    "    print (i)\n",
    "    i=i+1\n"
   ]
  },
  {
   "cell_type": "markdown",
   "metadata": {},
   "source": [
    "## function"
   ]
  },
  {
   "cell_type": "markdown",
   "metadata": {},
   "source": [
    "#### static (not return)"
   ]
  },
  {
   "cell_type": "code",
   "execution_count": null,
   "metadata": {},
   "outputs": [],
   "source": [
    "def ahmed (x):\n",
    "    for i in range (x):\n",
    "        print (i)\n",
    "ahmed(4)"
   ]
  },
  {
   "cell_type": "markdown",
   "metadata": {},
   "source": [
    "#### return"
   ]
  },
  {
   "cell_type": "code",
   "execution_count": null,
   "metadata": {},
   "outputs": [],
   "source": [
    "def sum (x,y):\n",
    "    return(x+y)\n",
    "a = sum(1,3)\n",
    "print(a)\n"
   ]
  },
  {
   "cell_type": "markdown",
   "metadata": {},
   "source": [
    "#### funcution as referance ( paramter )"
   ]
  },
  {
   "cell_type": "code",
   "execution_count": null,
   "metadata": {},
   "outputs": [],
   "source": [
    "def product (n1,n2):\n",
    "    print (n1*n2)\n",
    "def function ( func , n1 , n2 ):\n",
    "    func(n1,n2)\n",
    "function(product , 5 , 10)"
   ]
  },
  {
   "cell_type": "markdown",
   "metadata": {},
   "source": [
    "### function in function (inner)\n",
    "we can use the inner by outer only not in global "
   ]
  },
  {
   "cell_type": "code",
   "execution_count": null,
   "metadata": {},
   "outputs": [],
   "source": [
    "def func1(name,age):\n",
    "    print (f\" my name is {name}\")\n",
    "    def func2 (age):\n",
    "        print (f\" my age is {age}\")\n",
    "    func2(age)\n",
    "func1(\"ahmed\" , 19)\n",
    "\n",
    "# func2 (19) ==> we can't use it directly\n",
    "# to use it we must use by func1"
   ]
  },
  {
   "cell_type": "markdown",
   "metadata": {},
   "source": [
    "## global variable , local variable (( scope ))"
   ]
  },
  {
   "cell_type": "markdown",
   "metadata": {},
   "source": [
    "#### global varible"
   ]
  },
  {
   "cell_type": "code",
   "execution_count": 1,
   "metadata": {},
   "outputs": [
    {
     "data": {
      "text/plain": [
       "10"
      ]
     },
     "execution_count": 1,
     "metadata": {},
     "output_type": "execute_result"
    }
   ],
   "source": [
    "# we can use it by global variable name ==> global x\n",
    "\n",
    "x = 5\n",
    "def f1 ():\n",
    "    global x\n",
    "    x = x + 5\n",
    "    return  x \n",
    "f1()\n",
    "x"
   ]
  },
  {
   "cell_type": "markdown",
   "metadata": {},
   "source": [
    "### local variable "
   ]
  },
  {
   "cell_type": "code",
   "execution_count": 2,
   "metadata": {},
   "outputs": [
    {
     "data": {
      "text/plain": [
       "10"
      ]
     },
     "execution_count": 2,
     "metadata": {},
     "output_type": "execute_result"
    }
   ],
   "source": [
    "#  we can use it in funcution  \n",
    "x = 10 \n",
    "def f2 (x):\n",
    "    x = x + 5\n",
    "    return  x \n",
    "f2(5)"
   ]
  },
  {
   "cell_type": "markdown",
   "metadata": {},
   "source": [
    "## defult argument in funcution\n",
    "### doc string \"\"\" \"\"\" ==> use by commond help()"
   ]
  },
  {
   "cell_type": "code",
   "execution_count": 21,
   "metadata": {},
   "outputs": [
    {
     "name": "stdout",
     "output_type": "stream",
     "text": [
      "Help on function func3 in module __main__:\n",
      "\n",
      "func3(x, a='none', b='none')\n",
      "    this funcution has defult valie of a , b .... we can return x+a+b or x+a or x+b\n",
      "\n"
     ]
    },
    {
     "data": {
      "text/plain": [
       "6"
      ]
     },
     "execution_count": 21,
     "metadata": {},
     "output_type": "execute_result"
    }
   ],
   "source": [
    "def func3 (x, a = \"none\", b = \"none\" ):\n",
    "    \"\"\"this funcution has defult valie of a , b .... we can return x+a+b or x+a or x+b\"\"\"\n",
    "    if (a == \"none\"):\n",
    "        return x+b\n",
    "    elif( b== \"none\"):\n",
    "        return x+a\n",
    "    else :\n",
    "        return x+a+b\n",
    "    \n",
    "help(func3) \n",
    "func3(1,2,3)\n",
    "func3(1,2)\n",
    "func3(1, b=5)\n"
   ]
  }
 ],
 "metadata": {
  "kernelspec": {
   "display_name": "base",
   "language": "python",
   "name": "python3"
  },
  "language_info": {
   "codemirror_mode": {
    "name": "ipython",
    "version": 3
   },
   "file_extension": ".py",
   "mimetype": "text/x-python",
   "name": "python",
   "nbconvert_exporter": "python",
   "pygments_lexer": "ipython3",
   "version": "3.11.5"
  }
 },
 "nbformat": 4,
 "nbformat_minor": 2
}
